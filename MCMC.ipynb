{
  "nbformat": 4,
  "nbformat_minor": 0,
  "metadata": {
    "colab": {
      "provenance": [],
      "authorship_tag": "ABX9TyPgVQJJEp1fVRXlRj15BBDj",
      "include_colab_link": true
    },
    "kernelspec": {
      "name": "python3",
      "display_name": "Python 3"
    },
    "language_info": {
      "name": "python"
    }
  },
  "cells": [
    {
      "cell_type": "markdown",
      "metadata": {
        "id": "view-in-github",
        "colab_type": "text"
      },
      "source": [
        "<a href=\"https://colab.research.google.com/github/ericodle/mrbayes_primer/blob/main/MCMC.ipynb\" target=\"_parent\"><img src=\"https://colab.research.google.com/assets/colab-badge.svg\" alt=\"Open In Colab\"/></a>"
      ]
    },
    {
      "cell_type": "code",
      "source": [
        "import random\n",
        "import numpy as np"
      ],
      "metadata": {
        "id": "zWdfnvZFYW0O"
      },
      "execution_count": 25,
      "outputs": []
    },
    {
      "cell_type": "code",
      "source": [
        "fasta_content = '''>Sequence1\n",
        "ACGTACGTACGTACGT\n",
        ">Sequence2\n",
        "TGCATGCATGCATGCA\n",
        ">Sequence3\n",
        "ATCGATCGATCGATCG\n",
        ">Sequence4\n",
        "TAGCTAGCTAGCTAGC\n",
        ">Sequence5\n",
        "GCTAGCTAGCTAGCTA'''\n",
        "\n",
        "file_name = 'sequences.fasta'\n",
        "\n",
        "with open(file_name, 'w') as file:\n",
        "    file.write(fasta_content)\n",
        "\n",
        "print(f\"FASTA file '{file_name}' has been created.\")\n"
      ],
      "metadata": {
        "colab": {
          "base_uri": "https://localhost:8080/"
        },
        "id": "1iN2GiLOVesv",
        "outputId": "ee428464-3461-43a1-ef0b-93fe0cb92721"
      },
      "execution_count": 26,
      "outputs": [
        {
          "output_type": "stream",
          "name": "stdout",
          "text": [
            "FASTA file 'sequences.fasta' has been created.\n"
          ]
        }
      ]
    },
    {
      "cell_type": "code",
      "source": [
        "# Load sequences from a FASTA file\n",
        "def load_sequences(fasta_file):\n",
        "    sequences = []\n",
        "    with open(fasta_file, 'r') as file:\n",
        "        for line in file:\n",
        "            if line.startswith('>'):\n",
        "                continue\n",
        "            sequence = line.strip()\n",
        "            sequences.append(sequence)\n",
        "    return sequences"
      ],
      "metadata": {
        "id": "ycvh2BY5YYsI"
      },
      "execution_count": 27,
      "outputs": []
    },
    {
      "cell_type": "code",
      "source": [
        "# Compute the Jukes-Cantor distance between two sequences\n",
        "def compute_distance(sequence1, sequence2):\n",
        "    mismatches = sum(base1 != base2 for base1, base2 in zip(sequence1, sequence2))\n",
        "    denominator = (4 / 3) * (mismatches / len(sequence1))\n",
        "    if denominator == 1:\n",
        "        return float('inf')\n",
        "    elif denominator < 1:\n",
        "        return -0.75 * np.log(1 - denominator)\n",
        "    else:\n",
        "        return np.inf"
      ],
      "metadata": {
        "id": "0d0CEkqjYZkc"
      },
      "execution_count": 28,
      "outputs": []
    },
    {
      "cell_type": "markdown",
      "source": [
        "This function calculates the Jukes-Cantor distance between two DNA sequences. It counts the number of mismatches between the sequences and uses the Jukes-Cantor formula to compute the distance. If the denominator of the formula is zero or negative, it handles those cases appropriately. The function returns the Jukes-Cantor distance."
      ],
      "metadata": {
        "id": "4LXc5P7bYdrP"
      }
    },
    {
      "cell_type": "code",
      "source": [
        "# Example function for updating substitution counts\n",
        "def update_substitution_counts(substitution_rates, substitution_counts):\n",
        "    for i in range(4):\n",
        "        substitution_counts[i] += substitution_rates[i]"
      ],
      "metadata": {
        "id": "FctUAVmxYt8u"
      },
      "execution_count": 29,
      "outputs": []
    },
    {
      "cell_type": "markdown",
      "source": [
        "This function is an example implementation to update the count matrices for substitution rates. It takes the calculated substitution rates and updates the corresponding count matrix by adding the rates."
      ],
      "metadata": {
        "id": "hK_oOZ0tYyEU"
      }
    },
    {
      "cell_type": "code",
      "source": [
        "# Example function for computing substitution rates\n",
        "def compute_substitution_rates(distance_matrix):\n",
        "    # Compute average distance for each pair of bases\n",
        "    average_distance = np.mean(distance_matrix, axis=0)\n",
        "\n",
        "    # Compute substitution rates using Jukes-Cantor model\n",
        "    substitution_rates = np.exp(-average_distance)\n",
        "\n",
        "    return substitution_rates"
      ],
      "metadata": {
        "id": "c5tEM_0HY4N8"
      },
      "execution_count": 30,
      "outputs": []
    },
    {
      "cell_type": "markdown",
      "source": [
        "This function is an example implementation to compute substitution rates from the distance matrix. In the Jukes-Cantor model, the substitution rates are derived by exponentiating the average distance values. However, since the code has been updated to use the GTR model, this function is no longer used."
      ],
      "metadata": {
        "id": "prorrCW4Y82V"
      }
    },
    {
      "cell_type": "code",
      "source": [
        "# Perform MCMC sampling with burn-in and calculate posterior probabilities\n",
        "def run_mcmc_sampling(sequences, num_iterations, burn_in):\n",
        "    n = len(sequences)\n",
        "    sequence_length = len(sequences[0])\n",
        "\n",
        "    # Initialize the distance matrix\n",
        "    distance_matrix = np.zeros((n, n))\n",
        "\n",
        "    # Initialize count matrices for substitution rates\n",
        "    substitution_counts = np.zeros((4, 4))\n",
        "\n",
        "    # Run MCMC iterations with burn-in\n",
        "    for iteration in range(num_iterations):\n",
        "        # Randomly choose two sequences\n",
        "        seq_idx1, seq_idx2 = random.sample(range(n), 2)\n",
        "\n",
        "        # Generate new sequence based on existing sequences\n",
        "        new_seq = ''.join(random.choice(sequences[seq_idx1] + sequences[seq_idx2]) for _ in range(sequence_length))\n",
        "\n",
        "        # Compute distance of the new sequence with other sequences\n",
        "        for i in range(n):\n",
        "            if i == seq_idx1 or i == seq_idx2:\n",
        "                continue\n",
        "            new_distance = compute_distance(new_seq, sequences[i])\n",
        "            old_distance = distance_matrix[seq_idx1, i] + distance_matrix[seq_idx2, i]\n",
        "            distance_matrix[seq_idx1, i] = distance_matrix[i, seq_idx1] = new_distance\n",
        "            distance_matrix[seq_idx2, i] = distance_matrix[i, seq_idx2] = new_distance\n",
        "            distance_matrix[seq_idx1, seq_idx2] = distance_matrix[seq_idx2, seq_idx1] = old_distance\n",
        "\n",
        "        # Apply burn-in by discarding distances during burn-in period\n",
        "        if iteration >= burn_in:\n",
        "            # Compute substitution rates from distance matrix\n",
        "            substitution_rates = compute_substitution_rates(distance_matrix)\n",
        "\n",
        "            # Update substitution counts\n",
        "            update_substitution_counts(substitution_rates, substitution_counts)\n",
        "\n",
        "    # Calculate posterior probabilities based on substitution counts\n",
        "    total_counts = np.sum(substitution_counts)\n",
        "    substitution_probs = substitution_counts / total_counts\n",
        "\n",
        "    # Calculate prior probabilities based on uniform distribution\n",
        "    prior_probs = np.full_like(substitution_probs, 1 / 16)\n",
        "\n",
        "    # Calculate denominator for Bayes' formula\n",
        "    denominator = np.sum(substitution_probs * prior_probs)\n",
        "\n",
        "    # Calculate posterior probabilities using Bayes' formula\n",
        "    posterior_probs = (substitution_probs * prior_probs) / denominator\n",
        "\n",
        "    # Print the posterior probabilities\n",
        "    print(\"Posterior probabilities:\")\n",
        "    print(posterior_probs)"
      ],
      "metadata": {
        "id": "kHdQvkOaZQXL"
      },
      "execution_count": 31,
      "outputs": []
    },
    {
      "cell_type": "markdown",
      "source": [
        "This is the main function that performs MCMC sampling to estimate substitution rates and posterior probabilities. It takes the DNA sequences, the number of iterations to run, and the burn-in period as input. Within the function, it initializes the distance matrix and count matrices for substitution rates. It then iterates over the specified number of iterations, randomly selects two sequences, generates a new sequence, computes distances, and updates the distance matrix and substitution count matrices. After the burn-in period, it calculates substitution rates, posterior probabilities, and prints the posterior probabilities."
      ],
      "metadata": {
        "id": "n61jT_-vZUTz"
      }
    },
    {
      "cell_type": "code",
      "source": [
        "# Main code\n",
        "fasta_file = \"sequences.fasta\"\n",
        "sequences = load_sequences(fasta_file)\n",
        "\n",
        "num_iterations = 1000\n",
        "burn_in = 100\n",
        "\n",
        "run_mcmc_sampling(sequences, num_iterations, burn_in)"
      ],
      "metadata": {
        "colab": {
          "base_uri": "https://localhost:8080/"
        },
        "id": "V1qLDLooXdxv",
        "outputId": "2e7841ec-ce27-486a-dca4-e76e3710e883"
      },
      "execution_count": 32,
      "outputs": [
        {
          "output_type": "stream",
          "name": "stdout",
          "text": [
            "Posterior probabilities:\n",
            "[[0.06656232 0.06656232 0.06656232 0.06656232]\n",
            " [0.09443965 0.09443965 0.09443965 0.09443965]\n",
            " [0.03835605 0.03835605 0.03835605 0.03835605]\n",
            " [0.05064198 0.05064198 0.05064198 0.05064198]]\n"
          ]
        }
      ]
    },
    {
      "cell_type": "markdown",
      "source": [
        "The posterior probability matrix represents the probabilities of different nucleotide substitutions occurring at each position in the DNA sequences. Each element in the matrix corresponds to a specific substitution from one nucleotide to another at a specific position.\n",
        "\n",
        "While the code example provides a simplified demonstration of MCMC sampling and the computation of posterior probabilities, it does not provide the full range of output and analysis features offered by a comprehensive software package like MrBayes. MrBayes is a sophisticated software tool specifically designed for Bayesian phylogenetic analysis, offering a wide range of features and extensive output for interpreting and analyzing the results."
      ],
      "metadata": {
        "id": "ag56ji1bZxXJ"
      }
    }
  ]
}