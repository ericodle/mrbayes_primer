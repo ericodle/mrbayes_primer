{
  "nbformat": 4,
  "nbformat_minor": 0,
  "metadata": {
    "colab": {
      "provenance": [],
      "authorship_tag": "ABX9TyOzlI3xN8gbJ0RqnOLX5mCc",
      "include_colab_link": true
    },
    "kernelspec": {
      "name": "python3",
      "display_name": "Python 3"
    },
    "language_info": {
      "name": "python"
    }
  },
  "cells": [
    {
      "cell_type": "markdown",
      "metadata": {
        "id": "view-in-github",
        "colab_type": "text"
      },
      "source": [
        "<a href=\"https://colab.research.google.com/github/ericodle/mrbayes_primer/blob/main/mutation_models.ipynb\" target=\"_parent\"><img src=\"https://colab.research.google.com/assets/colab-badge.svg\" alt=\"Open In Colab\"/></a>"
      ]
    },
    {
      "cell_type": "markdown",
      "source": [
        "In the field of DNA sequence analysis, several commonly used mutation models are used to describe the substitution patterns and rates of genetic changes that occur over time. Here are some of the common mutation models:\n",
        "\n",
        "Jukes-Cantor (JC) Model: The Jukes-Cantor model assumes equal probabilities of all four nucleotides (A, C, G, T) and that all substitution rates are equal. It is a simple and commonly used model but assumes a uniform rate of evolution across the tree.\n",
        "\n",
        "Kimura 2-Parameter (K2P) Model: The Kimura 2-Parameter model introduces a parameter to account for transitions (substitutions between purines A/G or pyrimidines C/T) and transversions (substitutions between purine and pyrimidine). It allows for different rates of transitions and transversions.\n",
        "\n",
        "Hasegawa-Kishino-Yano (HKY) Model: The HKY model extends the K2P model by incorporating different base frequencies. It assumes different stationary frequencies for each nucleotide base (A, C, G, T) and allows for different rates of transitions and transversions.\n",
        "\n",
        "General Time Reversible (GTR) Model: The General Time Reversible model is a more complex model that considers different substitution rates for all possible nucleotide changes. It incorporates base frequencies and six distinct substitution rates. GTR is often considered the most realistic mutation model but requires more computational resources.\n",
        "\n",
        "Tamura-Nei (TN) Model: The Tamura-Nei model is an extension of the JC model that incorporates variable base frequencies and different substitution rates. It estimates the base frequencies from the data and allows for rate variation among different nucleotide positions."
      ],
      "metadata": {
        "id": "xkN9Vw31Fx6y"
      }
    },
    {
      "cell_type": "markdown",
      "source": [
        "# Jukes-Cantor Model"
      ],
      "metadata": {
        "id": "h1R_407EHene"
      }
    },
    {
      "cell_type": "code",
      "execution_count": 1,
      "metadata": {
        "colab": {
          "base_uri": "https://localhost:8080/"
        },
        "id": "ImppRDJgFNy_",
        "outputId": "e3982b50-16e4-45f2-8d7d-f026bf9bf4c0"
      },
      "outputs": [
        {
          "output_type": "stream",
          "name": "stdout",
          "text": [
            "[0.         0.10732563 0.10732563 0.10732563]\n",
            "[0.10732563 0.         0.2326162  0.2326162 ]\n",
            "[0.10732563 0.2326162  0.         0.2326162 ]\n",
            "[0.10732563 0.2326162  0.2326162  0.        ]\n"
          ]
        }
      ],
      "source": [
        "import numpy as np\n",
        "\n",
        "# Example DNA sequences\n",
        "sequences = [\n",
        "    \"ATGCTGCTGA\",\n",
        "    \"ATGCTCCTGA\",\n",
        "    \"ATGTTGCTGA\",\n",
        "    \"ATGCCGCTGA\"\n",
        "]\n",
        "\n",
        "# Number of sequences\n",
        "n = len(sequences)\n",
        "\n",
        "# Length of sequences\n",
        "sequence_length = len(sequences[0])\n",
        "\n",
        "# Compute the JC model distance matrix\n",
        "distance_matrix = np.zeros((n, n))\n",
        "\n",
        "for i in range(n):\n",
        "    for j in range(i+1, n):\n",
        "        differences = sum(sequences[i][k] != sequences[j][k] for k in range(sequence_length))\n",
        "        p = differences / sequence_length\n",
        "        distance = -0.75 * np.log(1 - (4/3) * p)\n",
        "        distance_matrix[i, j] = distance_matrix[j, i] = distance\n",
        "\n",
        "# Print the distance matrix\n",
        "for row in distance_matrix:\n",
        "    print(row)"
      ]
    },
    {
      "cell_type": "markdown",
      "source": [
        "We initialize a square matrix of zeros with dimensions n (number of sequences) by n. We then iterate over each pair of sequences using nested loops. For each pair, we calculate the number of differing positions (differences) by comparing the nucleotides at each position. We compute the Jukes-Cantor distance formula using the proportion of differing positions (p), and assign it to the corresponding positions in the distance matrix."
      ],
      "metadata": {
        "id": "tRZTd6fvGwqQ"
      }
    },
    {
      "cell_type": "markdown",
      "source": [
        "# Kimura 2-Parameter Model"
      ],
      "metadata": {
        "id": "UOBxy1BKHYy_"
      }
    },
    {
      "cell_type": "code",
      "source": [
        "import numpy as np\n",
        "\n",
        "# Example DNA sequences\n",
        "sequences = [\n",
        "    \"ATGCTGCTGA\",\n",
        "    \"ATGCTCCTGA\",\n",
        "    \"ATGTTGCTGA\",\n",
        "    \"ATGCCGCTGA\"\n",
        "]\n",
        "\n",
        "# Number of sequences\n",
        "n = len(sequences)\n",
        "\n",
        "# Length of sequences\n",
        "sequence_length = len(sequences[0])\n",
        "\n",
        "# Compute the K2P model distance matrix\n",
        "distance_matrix = np.zeros((n, n))\n",
        "\n",
        "for i in range(n):\n",
        "    for j in range(i+1, n):\n",
        "        transitions = 0\n",
        "        transversions = 0\n",
        "        for k in range(sequence_length):\n",
        "            if sequences[i][k] != sequences[j][k]:\n",
        "                if (sequences[i][k] == \"A\" and sequences[j][k] == \"G\") or (sequences[i][k] == \"G\" and sequences[j][k] == \"A\") \\\n",
        "                        or (sequences[i][k] == \"C\" and sequences[j][k] == \"T\") or (sequences[i][k] == \"T\" and sequences[j][k] == \"C\"):\n",
        "                    transitions += 1\n",
        "                else:\n",
        "                    transversions += 1\n",
        "        p = transitions / sequence_length\n",
        "        q = transversions / sequence_length\n",
        "        distance = -0.5 * np.log(1 - 2*p - q) - 0.25 * np.log(1 - 2*q)\n",
        "        distance_matrix[i, j] = distance_matrix[j, i] = distance\n",
        "\n",
        "# Print the distance matrix\n",
        "for row in distance_matrix:\n",
        "    print(row)"
      ],
      "metadata": {
        "colab": {
          "base_uri": "https://localhost:8080/"
        },
        "id": "PyvPuXTNGvwA",
        "outputId": "85cb3f54-6f84-49d7-d7db-0775782ffbdc"
      },
      "execution_count": 3,
      "outputs": [
        {
          "output_type": "stream",
          "name": "stdout",
          "text": [
            "[0.         0.10846615 0.11157178 0.11157178]\n",
            "[0.10846615 0.         0.23412336 0.23412336]\n",
            "[0.11157178 0.23412336 0.         0.25541281]\n",
            "[0.11157178 0.23412336 0.25541281 0.        ]\n"
          ]
        }
      ]
    },
    {
      "cell_type": "markdown",
      "source": [
        "We compute the distance matrix using the Kimura 2-Parameter (K2P) model. We initialize a square matrix of zeros with dimensions n (number of sequences) by n. We then iterate over each pair of sequences using nested loops. For each pair, we calculate the number of transitions (transitions) and transversions (transversions) by comparing the nucleotides at each position. We compute the K2P distance formula using the proportions of transitions (p) and transversions (q), and assign it to the corresponding positions in the distance matrix."
      ],
      "metadata": {
        "id": "cLhZnzaqHTtk"
      }
    },
    {
      "cell_type": "markdown",
      "source": [
        "# Hasegawa-Kishino-Yano (HKY) Model"
      ],
      "metadata": {
        "id": "DqTgQsUHHiTS"
      }
    },
    {
      "cell_type": "code",
      "source": [
        "import numpy as np\n",
        "\n",
        "# Example DNA sequences\n",
        "sequences = [\n",
        "    \"ATGCTGCTGA\",\n",
        "    \"ATGCTCCTGA\",\n",
        "    \"ATGTTGCTGA\",\n",
        "    \"ATGCCGCTGA\"\n",
        "]\n",
        "\n",
        "# Number of sequences\n",
        "n = len(sequences)\n",
        "\n",
        "# Length of sequences\n",
        "sequence_length = len(sequences[0])\n",
        "\n",
        "# Frequencies of each nucleotide\n",
        "base_frequencies = {\n",
        "    \"A\": 0,\n",
        "    \"C\": 0,\n",
        "    \"G\": 0,\n",
        "    \"T\": 0\n",
        "}\n",
        "\n",
        "# Compute the frequencies of each nucleotide\n",
        "for sequence in sequences:\n",
        "    for base in base_frequencies:\n",
        "        base_frequencies[base] += sequence.count(base)\n",
        "\n",
        "total_bases = sum(base_frequencies.values())\n",
        "\n",
        "for base in base_frequencies:\n",
        "    base_frequencies[base] /= total_bases\n",
        "\n",
        "# Compute the HKY model distance matrix\n",
        "distance_matrix = np.zeros((n, n))\n",
        "\n",
        "for i in range(n):\n",
        "    for j in range(i+1, n):\n",
        "        transitions = 0\n",
        "        transversions = 0\n",
        "        for k in range(sequence_length):\n",
        "            if sequences[i][k] != sequences[j][k]:\n",
        "                if (sequences[i][k] == \"A\" and sequences[j][k] == \"G\") or (sequences[i][k] == \"G\" and sequences[j][k] == \"A\") \\\n",
        "                        or (sequences[i][k] == \"C\" and sequences[j][k] == \"T\") or (sequences[i][k] == \"T\" and sequences[j][k] == \"C\"):\n",
        "                    transitions += 1\n",
        "                else:\n",
        "                    transversions += 1\n",
        "        p = transitions / sequence_length\n",
        "        q = transversions / sequence_length\n",
        "        distance = -0.5 * np.log((1 - 2*p - 2*q) * np.sqrt(1 - 2*q))\n",
        "        distance_matrix[i, j] = distance_matrix[j, i] = distance\n",
        "\n",
        "# Print the distance matrix\n",
        "for row in distance_matrix:\n",
        "    print(row)"
      ],
      "metadata": {
        "colab": {
          "base_uri": "https://localhost:8080/"
        },
        "id": "ksgjHTJYHh8n",
        "outputId": "59b9728d-8d49-4719-c851-f7d1b8189475"
      },
      "execution_count": 4,
      "outputs": [
        {
          "output_type": "stream",
          "name": "stdout",
          "text": [
            "[0.         0.16735766 0.11157178 0.11157178]\n",
            "[0.16735766 0.         0.3111987  0.3111987 ]\n",
            "[0.11157178 0.3111987  0.         0.25541281]\n",
            "[0.11157178 0.3111987  0.25541281 0.        ]\n"
          ]
        }
      ]
    },
    {
      "cell_type": "markdown",
      "source": [
        "we compute the frequencies of each nucleotide (A, C, G, T) in the sequences. The frequencies are calculated by counting the occurrences of each nucleotide and dividing by the total number of bases.\n",
        "\n",
        "We then compute the distance matrix using the Hasegawa-Kishino-Yano (HKY) model. We initialize a square matrix of zeros with dimensions n (number of sequences) by n. We iterate over each pair of sequences using nested loops. For each pair, we calculate the number of transitions (transitions) and transversions (transversions) by comparing the nucleotides at each position. We compute the HKY distance formula using the proportions of transitions (p) and transversions (q), and assign it to the corresponding positions in the distance matrix."
      ],
      "metadata": {
        "id": "pVeirsogH6JL"
      }
    },
    {
      "cell_type": "markdown",
      "source": [
        "# General Time Reversible (GTR) Model"
      ],
      "metadata": {
        "id": "j6Oj4ZXDIDeJ"
      }
    },
    {
      "cell_type": "code",
      "source": [
        "import numpy as np\n",
        "\n",
        "# Example DNA sequences\n",
        "sequences = [\n",
        "    \"ATGCTGCTGA\",\n",
        "    \"ATGCTCCTGA\",\n",
        "    \"ATGTTGCTGA\",\n",
        "    \"ATGCCGCTGA\"\n",
        "]\n",
        "\n",
        "# Number of sequences\n",
        "n = len(sequences)\n",
        "\n",
        "# Length of sequences\n",
        "sequence_length = len(sequences[0])\n",
        "\n",
        "# Substitution rate matrix (A, C, G, T)\n",
        "substitution_rates = np.array([\n",
        "    [0, 1, 2, 3],\n",
        "    [1, 0, 4, 5],\n",
        "    [2, 4, 0, 6],\n",
        "    [3, 5, 6, 0]\n",
        "])\n",
        "\n",
        "# Compute the GTR-like model distance matrix\n",
        "distance_matrix = np.zeros((n, n))\n",
        "\n",
        "for i in range(n):\n",
        "    for j in range(i + 1, n):\n",
        "        dist = 0\n",
        "        for k in range(sequence_length):\n",
        "            base_i = sequences[i][k]\n",
        "            base_j = sequences[j][k]\n",
        "            rate = substitution_rates['ACGT'.index(base_i), 'ACGT'.index(base_j)]\n",
        "            dist += rate\n",
        "        distance_matrix[i, j] = distance_matrix[j, i] = dist\n",
        "\n",
        "# Print the distance matrix\n",
        "for row in distance_matrix:\n",
        "    print(row)"
      ],
      "metadata": {
        "colab": {
          "base_uri": "https://localhost:8080/"
        },
        "id": "2Sm8oz4cILOj",
        "outputId": "88eb6768-7bce-4cd8-b928-c99e557dee6f"
      },
      "execution_count": 7,
      "outputs": [
        {
          "output_type": "stream",
          "name": "stdout",
          "text": [
            "[0. 4. 5. 5.]\n",
            "[4. 0. 9. 9.]\n",
            "[ 5.  9.  0. 10.]\n",
            "[ 5.  9. 10.  0.]\n"
          ]
        }
      ]
    },
    {
      "cell_type": "markdown",
      "source": [
        "we assume a fixed substitution rate matrix (substitution_rates) for the four nucleotides A, C, G, and T. The matrix is represented as a 2D numpy array, where each entry represents the substitution rate between the corresponding nucleotide pair.\n",
        "\n",
        "We then compute the distance matrix based on this simplified GTR-like model. We initialize a square matrix of zeros with dimensions n (number of sequences) by n. We iterate over each pair of sequences using nested loops. For each pair, we calculate the distance by summing the substitution rates based on the corresponding nucleotide pairs at each position in the sequences. The distance is accumulated in the dist variable and assigned to the corresponding positions in the distance matrix."
      ],
      "metadata": {
        "id": "CAF4PJ2nIe9W"
      }
    },
    {
      "cell_type": "markdown",
      "source": [
        "# Tamura-Nei (TN) Model"
      ],
      "metadata": {
        "id": "AMypH8y8JM9P"
      }
    },
    {
      "cell_type": "code",
      "source": [
        "import numpy as np\n",
        "\n",
        "# Example DNA sequences\n",
        "sequences = [\n",
        "    \"ATGCTGCTGA\",\n",
        "    \"ATGCTCCTGA\",\n",
        "    \"ATGTTGCTGA\",\n",
        "    \"ATGCCGCTGA\"\n",
        "]\n",
        "\n",
        "# Number of sequences\n",
        "n = len(sequences)\n",
        "\n",
        "# Length of sequences\n",
        "sequence_length = len(sequences[0])\n",
        "\n",
        "# Frequencies of each nucleotide\n",
        "base_frequencies = {\n",
        "    \"A\": 0,\n",
        "    \"C\": 0,\n",
        "    \"G\": 0,\n",
        "    \"T\": 0\n",
        "}\n",
        "\n",
        "# Compute the frequencies of each nucleotide\n",
        "for sequence in sequences:\n",
        "    for base in base_frequencies:\n",
        "        base_frequencies[base] += sequence.count(base)\n",
        "\n",
        "total_bases = sum(base_frequencies.values())\n",
        "\n",
        "for base in base_frequencies:\n",
        "    base_frequencies[base] /= total_bases\n",
        "\n",
        "# Transition/transversion rate matrix (A, C, G, T)\n",
        "transition_transversion_rates = np.array([\n",
        "    [0, 1, 2, 1],\n",
        "    [1, 0, 1, 2],\n",
        "    [2, 1, 0, 1],\n",
        "    [1, 2, 1, 0]\n",
        "])\n",
        "\n",
        "# Compute the TN model distance matrix\n",
        "distance_matrix = np.zeros((n, n))\n",
        "\n",
        "for i in range(n):\n",
        "    for j in range(i+1, n):\n",
        "        dist = 0\n",
        "        for k in range(sequence_length):\n",
        "            base_i = sequences[i][k]\n",
        "            base_j = sequences[j][k]\n",
        "            if base_i != base_j:\n",
        "                rate = transition_transversion_rates['ACGT'.index(base_i), 'ACGT'.index(base_j)]\n",
        "                freq_i = base_frequencies[base_i]\n",
        "                freq_j = base_frequencies[base_j]\n",
        "                dist += (1 / (freq_i * freq_j)) * rate\n",
        "        distance_matrix[i, j] = distance_matrix[j, i] = dist\n",
        "\n",
        "# Print the distance matrix\n",
        "for row in distance_matrix:\n",
        "    print(row)"
      ],
      "metadata": {
        "colab": {
          "base_uri": "https://localhost:8080/"
        },
        "id": "Cj6TQlfaJRiv",
        "outputId": "315ef33f-e46a-4606-8633-ba9b58fbeb84"
      },
      "execution_count": 8,
      "outputs": [
        {
          "output_type": "stream",
          "name": "stdout",
          "text": [
            "[ 0.         16.16161616 29.62962963 29.62962963]\n",
            "[16.16161616  0.         45.79124579 45.79124579]\n",
            "[29.62962963 45.79124579  0.         59.25925926]\n",
            "[29.62962963 45.79124579 59.25925926  0.        ]\n"
          ]
        }
      ]
    },
    {
      "cell_type": "markdown",
      "source": [
        "we compute the frequencies of each nucleotide (A, C, G, T) in the sequences. The frequencies are calculated by counting the occurrences of each nucleotide and dividing by the total number of bases.\n",
        "\n",
        "We then compute the distance matrix using the Tamura-Nei (TN) model. We initialize a square matrix of zeros with dimensions n (number of sequences) by n. We iterate over each pair of sequences using nested loops. For each pair, we calculate the distance by considering only differing positions and summing the transition/transversion rates based on the corresponding nucleotide pairs. We also account for the frequencies of the nucleotides. The distance is accumulated in the dist variable and assigned to the corresponding positions in the distance matrix."
      ],
      "metadata": {
        "id": "7LnkcgFDJZbH"
      }
    }
  ]
}